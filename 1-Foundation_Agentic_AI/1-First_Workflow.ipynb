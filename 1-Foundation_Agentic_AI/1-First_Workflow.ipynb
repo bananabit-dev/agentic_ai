{
 "cells": [
  {
   "cell_type": "markdown",
   "id": "e59088e8",
   "metadata": {},
   "source": [
    "# Welcome to start your adventure in agentic ai."
   ]
  },
  {
   "cell_type": "code",
   "execution_count": 13,
   "id": "7b5d5b4f",
   "metadata": {},
   "outputs": [
    {
     "data": {
      "text/plain": [
       "True"
      ]
     },
     "execution_count": 13,
     "metadata": {},
     "output_type": "execute_result"
    }
   ],
   "source": [
    "# Load the API keys into enviroment variables.\n",
    "\n",
    "from dotenv import load_dotenv\n",
    "\n",
    "load_dotenv(override=True)"
   ]
  },
  {
   "cell_type": "code",
   "execution_count": 31,
   "id": "b579e5d0",
   "metadata": {},
   "outputs": [
    {
     "name": "stdout",
     "output_type": "stream",
     "text": [
      "api key exists = sk-or-v1-eaf09\n"
     ]
    }
   ],
   "source": [
    "# Lets print env variable\n",
    "import os\n",
    "\n",
    "api_key=os.getenv(\"API_KEY\")\n",
    "\n",
    "if api_key:\n",
    "    print(f\"api key exists = {api_key[:14]}\")\n",
    "else:\n",
    "    print(\"api key not set\")\n",
    "\n",
    "\n",
    "#Settings\n",
    "openrouter_base_url=\"https://openrouter.ai/api/v1/chat/completions\"\n",
    "model=\"openai/gpt-oss-20b:free\""
   ]
  },
  {
   "cell_type": "code",
   "execution_count": 34,
   "id": "b4f525fb",
   "metadata": {},
   "outputs": [
    {
     "data": {
      "text/markdown": [
       "2 × 2 = 4."
      ],
      "text/plain": [
       "<IPython.core.display.Markdown object>"
      ]
     },
     "metadata": {},
     "output_type": "display_data"
    }
   ],
   "source": [
    "# Start building the workflow!\n",
    "\n",
    "import requests\n",
    "import json\n",
    "from IPython.display import Markdown, display\n",
    "\n",
    "response = requests.post(\n",
    "  url=openrouter_base_url,\n",
    "  headers={\n",
    "    \"Authorization\": f\"Bearer {api_key}\",\n",
    "    \"Content-Type\": \"application/json\",\n",
    "#   \"HTTP-Referer\": \"<YOUR_SITE_URL>\", # Optional. Site URL for rankings on openrouter.ai.\n",
    "#   \"X-Title\": \"<YOUR_SITE_NAME>\", # Optional. Site title for rankings on openrouter.ai.\n",
    "  },\n",
    "  data=json.dumps({\n",
    "    \"model\": model,\n",
    "    \"messages\": [\n",
    "      {\n",
    "        \"role\": \"user\",\n",
    "        \"content\": \"What is 2x2?\"\n",
    "      }\n",
    "    ],\n",
    "    \n",
    "  })\n",
    ")\n",
    "\n",
    "# Parse JSON\n",
    "data = response.json()\n",
    "\n",
    "# Check if request was successful\n",
    "if response.status_code != 200:\n",
    "    print(f\"Error: {response.status_code}\")\n",
    "    print(response.text)\n",
    "else:\n",
    "    data = response.json()\n",
    "\n",
    "    # Debug: print the full JSON to see the structure\n",
    "    #print(json.dumps(data, indent=2))\n",
    "\n",
    "    # Safely extract the assistant's message\n",
    "    try:\n",
    "        raw_response = data[\"choices\"][0][\"message\"][\"content\"]\n",
    "        display(Markdown(raw_response))\n",
    "    except (KeyError, IndexError) as e:\n",
    "        print(\"Could not find 'message.content' in the response.\")"
   ]
  },
  {
   "cell_type": "code",
   "execution_count": 38,
   "id": "1fd7249f",
   "metadata": {},
   "outputs": [],
   "source": [
    "# Let's ask some questions\n",
    "\n",
    "question = \"Please propose a challenging question to assess someone's IQ. Respond only with the Question.\"\n",
    "messages={\n",
    "        \"role\": \"user\",\n",
    "        \"content\": question}\n",
    "    "
   ]
  },
  {
   "cell_type": "code",
   "execution_count": 39,
   "id": "fa5e167e",
   "metadata": {},
   "outputs": [
    {
     "data": {
      "text/markdown": [
       "You are given the following information about five children: **Anna, Ben, Clara, Derek, and Eva**. Each of them has two unique attributes:  \n",
       "1. **An age ranking** (youngest to oldest, but the specific ages aren’t given).  \n",
       "2. **An activity** – they each answered one of five quizzes on different subjects (**Poetry, Math, History, Science, Geography**) **and** each plays a different musical instrument (**Violin, Piano, Guitar, Drums, Flute**).  \n",
       "\n",
       "Clues:  \n",
       "\n",
       "1. Anna is older than the child who answered the Science quiz.  \n",
       "2. Ben answered the Geography quiz.  \n",
       "3. Clara plays the Violin.  \n",
       "4. Derek is older than Clara.  \n",
       "5. The child who answered the Math quiz plays the Drums.  \n",
       "6. Eva answered the Poetry quiz.  \n",
       "7. The child who answered the History quiz plays the Guitar.  \n",
       "8. The child who answered the Science quiz plays the Flute.  \n",
       "\n",
       "**Questions to solve:**  \n",
       "\n",
       "a) Determine which instrument each child plays.  \n",
       "b) Determine the age order of the children from youngest to oldest.  \n",
       "\n",
       "Provide a complete listing of each child’s instrument and their age rank."
      ],
      "text/plain": [
       "<IPython.core.display.Markdown object>"
      ]
     },
     "metadata": {},
     "output_type": "display_data"
    }
   ],
   "source": [
    "# Ask the question to deepseek.\n",
    "response = requests.post(\n",
    "  url=openrouter_base_url,\n",
    "  headers={\n",
    "    \"Authorization\": f\"Bearer {api_key}\",\n",
    "    \"Content-Type\": \"application/json\",\n",
    "#   \"HTTP-Referer\": \"<YOUR_SITE_URL>\", # Optional. Site URL for rankings on openrouter.ai.\n",
    "#   \"X-Title\": \"<YOUR_SITE_NAME>\", # Optional. Site title for rankings on openrouter.ai.\n",
    "  },\n",
    "  data=json.dumps({\n",
    "    \"model\": model,\n",
    "    \"messages\": [\n",
    "        messages\n",
    "    ],\n",
    "    \n",
    "  })\n",
    ")\n",
    "\n",
    "# Parse JSON\n",
    "data = response.json()\n",
    "\n",
    "# Check if request was successful\n",
    "if response.status_code != 200:\n",
    "    print(f\"Error: {response.status_code}\")\n",
    "    print(response.text)\n",
    "else:\n",
    "    data = response.json()\n",
    "\n",
    "    # Debug: print the full JSON to see the structure\n",
    "    #print(json.dumps(data, indent=2))\n",
    "\n",
    "    # Safely extract the assistant's message\n",
    "    try:\n",
    "        raw_response = data[\"choices\"][0][\"message\"][\"content\"]\n",
    "        display(Markdown(raw_response))\n",
    "    except (KeyError, IndexError) as e:\n",
    "        print(\"Could not find 'message.content' in the response.\")"
   ]
  },
  {
   "cell_type": "code",
   "execution_count": 40,
   "id": "b2efd411",
   "metadata": {},
   "outputs": [],
   "source": [
    "# New Question\n",
    "messages={\n",
    "        \"role\": \"user\",\n",
    "        \"content\": raw_response}\n",
    "    "
   ]
  },
  {
   "cell_type": "code",
   "execution_count": 41,
   "id": "7b50ae31",
   "metadata": {},
   "outputs": [
    {
     "data": {
      "text/markdown": [
       "**The puzzle, as stated, has no solution.**\n",
       "\n",
       "When we try to satisfy the five‑subject/ five‑instrument assignment required by the clues, we run into an unavoidable contradiction:\n",
       "\n",
       "| Child | Given by the clues |\n",
       "|-------|---------------------|\n",
       "| **Ben** | *answers Geography* (clue 2) |\n",
       "| **Eva** | *answers Poetry* (clue 6) |\n",
       "| **Clara** | *plays the Violin* (clue 3) |\n",
       "| **Anna** | *older than the Science‑quiz taker* (clue 1) |\n",
       "| **Derek** | *older than Clara* (clue 4) |\n",
       "\n",
       "Because each quiz subject is answered by exactly one child, the remaining three subjects (**Math, History, Science**) must be given to **Anna, Clara, and Derek**.  \n",
       "But clues 5, 7 and 8 force a fixed instrument for the child who answers each of those three subjects:\n",
       "\n",
       "| Subject | Required instrument |\n",
       "|---------|----------------------|\n",
       "| Math | Drums |\n",
       "| History | Guitar |\n",
       "| Science | Flute |\n",
       "\n",
       "Clara, however, is already forced to play the **Violin** (clue 3).  \n",
       "Therefore she cannot be the child who answers Math, History, or Science – a contradiction, because one of her three must receive one of those subjects (the only remaining subjects after Geography and Poetry have already been taken by Ben and Eva).\n",
       "\n",
       "No matter how the ages are ordered, the instrument‑subject incompatibility cannot be resolved. Consequently, the list of instruments and age order that the problem asks for cannot be produced: the given statements are internally inconsistent."
      ],
      "text/plain": [
       "<IPython.core.display.Markdown object>"
      ]
     },
     "metadata": {},
     "output_type": "display_data"
    }
   ],
   "source": [
    "# Ask the question to deepseek.\n",
    "response = requests.post(\n",
    "  url=openrouter_base_url,\n",
    "  headers={\n",
    "    \"Authorization\": f\"Bearer {api_key}\",\n",
    "    \"Content-Type\": \"application/json\",\n",
    "#   \"HTTP-Referer\": \"<YOUR_SITE_URL>\", # Optional. Site URL for rankings on openrouter.ai.\n",
    "#   \"X-Title\": \"<YOUR_SITE_NAME>\", # Optional. Site title for rankings on openrouter.ai.\n",
    "  },\n",
    "  data=json.dumps({\n",
    "    \"model\": model,\n",
    "    \"messages\": [\n",
    "        messages\n",
    "    ],\n",
    "    \n",
    "  })\n",
    ")\n",
    "\n",
    "# Parse JSON\n",
    "data = response.json()\n",
    "\n",
    "# Check if request was successful\n",
    "if response.status_code != 200:\n",
    "    print(f\"Error: {response.status_code}\")\n",
    "    print(response.text)\n",
    "else:\n",
    "    data = response.json()\n",
    "\n",
    "    # Debug: print the full JSON to see the structure\n",
    "    #print(json.dumps(data, indent=2))\n",
    "\n",
    "    # Safely extract the assistant's message\n",
    "    try:\n",
    "        raw_response = data[\"choices\"][0][\"message\"][\"content\"]\n",
    "        display(Markdown(raw_response))\n",
    "    except (KeyError, IndexError) as e:\n",
    "        print(\"Could not find 'message.content' in the response.\")"
   ]
  }
 ],
 "metadata": {
  "kernelspec": {
   "display_name": "agentic_ai",
   "language": "python",
   "name": "python3"
  },
  "language_info": {
   "codemirror_mode": {
    "name": "ipython",
    "version": 3
   },
   "file_extension": ".py",
   "mimetype": "text/x-python",
   "name": "python",
   "nbconvert_exporter": "python",
   "pygments_lexer": "ipython3",
   "version": "3.13.5"
  }
 },
 "nbformat": 4,
 "nbformat_minor": 5
}
