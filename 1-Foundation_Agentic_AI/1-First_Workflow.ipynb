{
 "cells": [
  {
   "cell_type": "markdown",
   "id": "e59088e8",
   "metadata": {},
   "source": [
    "# Welcome to start your adventure in agentic ai."
   ]
  },
  {
   "cell_type": "code",
   "execution_count": 1,
   "id": "7b5d5b4f",
   "metadata": {},
   "outputs": [
    {
     "data": {
      "text/plain": [
       "True"
      ]
     },
     "execution_count": 1,
     "metadata": {},
     "output_type": "execute_result"
    }
   ],
   "source": [
    "# Load the API keys into enviroment variables.\n",
    "\n",
    "from dotenv import load_dotenv\n",
    "\n",
    "load_dotenv(override=True)"
   ]
  },
  {
   "cell_type": "code",
   "execution_count": 2,
   "id": "b579e5d0",
   "metadata": {},
   "outputs": [
    {
     "name": "stdout",
     "output_type": "stream",
     "text": [
      "api key exists = sk-or-v1-eaf09\n"
     ]
    }
   ],
   "source": [
    "# Lets print env variable\n",
    "import os\n",
    "\n",
    "api_key=os.getenv(\"API_KEY\")\n",
    "\n",
    "if api_key:\n",
    "    print(f\"api key exists = {api_key[:14]}\")\n",
    "else:\n",
    "    print(\"api key not set\")\n",
    "\n",
    "\n",
    "#Settings\n",
    "openrouter_base_url=\"https://openrouter.ai/api/v1/chat/completions\"\n",
    "model=\"openai/gpt-oss-20b:free\""
   ]
  },
  {
   "cell_type": "code",
   "execution_count": 3,
   "id": "b4f525fb",
   "metadata": {},
   "outputs": [
    {
     "data": {
      "text/markdown": [
       "2 × 2 = 4."
      ],
      "text/plain": [
       "<IPython.core.display.Markdown object>"
      ]
     },
     "metadata": {},
     "output_type": "display_data"
    }
   ],
   "source": [
    "# Start building the workflow!\n",
    "\n",
    "import requests\n",
    "import json\n",
    "from IPython.display import Markdown, display\n",
    "\n",
    "response = requests.post(\n",
    "  url=openrouter_base_url,\n",
    "  headers={\n",
    "    \"Authorization\": f\"Bearer {api_key}\",\n",
    "    \"Content-Type\": \"application/json\",\n",
    "#   \"HTTP-Referer\": \"<YOUR_SITE_URL>\", # Optional. Site URL for rankings on openrouter.ai.\n",
    "#   \"X-Title\": \"<YOUR_SITE_NAME>\", # Optional. Site title for rankings on openrouter.ai.\n",
    "  },\n",
    "  data=json.dumps({\n",
    "    \"model\": model,\n",
    "    \"messages\": [\n",
    "      {\n",
    "        \"role\": \"user\",\n",
    "        \"content\": \"What is 2x2?\"\n",
    "      }\n",
    "    ],\n",
    "    \n",
    "  })\n",
    ")\n",
    "\n",
    "# Parse JSON\n",
    "data = response.json()\n",
    "\n",
    "# Check if request was successful\n",
    "if response.status_code != 200:\n",
    "    print(f\"Error: {response.status_code}\")\n",
    "    print(response.text)\n",
    "else:\n",
    "    data = response.json()\n",
    "\n",
    "    # Debug: print the full JSON to see the structure\n",
    "    #print(json.dumps(data, indent=2))\n",
    "\n",
    "    # Safely extract the assistant's message\n",
    "    try:\n",
    "        raw_response = data[\"choices\"][0][\"message\"][\"content\"]\n",
    "        display(Markdown(raw_response))\n",
    "    except (KeyError, IndexError) as e:\n",
    "        print(\"Could not find 'message.content' in the response.\")"
   ]
  },
  {
   "cell_type": "code",
   "execution_count": 4,
   "id": "1fd7249f",
   "metadata": {},
   "outputs": [],
   "source": [
    "# Let's ask some questions\n",
    "\n",
    "question = \"Please propose a challenging question to assess someone's IQ. Respond only with the Question.\"\n",
    "messages={\n",
    "        \"role\": \"user\",\n",
    "        \"content\": question}\n",
    "    "
   ]
  },
  {
   "cell_type": "code",
   "execution_count": null,
   "id": "fa5e167e",
   "metadata": {},
   "outputs": [
    {
     "data": {
      "text/markdown": [
       "What is the smallest positive integer that can be expressed as the sum of two distinct positive integer cubes in two different ways?"
      ],
      "text/plain": [
       "<IPython.core.display.Markdown object>"
      ]
     },
     "metadata": {},
     "output_type": "display_data"
    }
   ],
   "source": [
    "# Ask the question to model.\n",
    "response = requests.post(\n",
    "  url=openrouter_base_url,\n",
    "  headers={\n",
    "    \"Authorization\": f\"Bearer {api_key}\",\n",
    "    \"Content-Type\": \"application/json\",\n",
    "#   \"HTTP-Referer\": \"<YOUR_SITE_URL>\", # Optional. Site URL for rankings on openrouter.ai.\n",
    "#   \"X-Title\": \"<YOUR_SITE_NAME>\", # Optional. Site title for rankings on openrouter.ai.\n",
    "  },\n",
    "  data=json.dumps({\n",
    "    \"model\": model,\n",
    "    \"messages\": [\n",
    "        messages\n",
    "    ],\n",
    "    \n",
    "  })\n",
    ")\n",
    "\n",
    "# Parse JSON\n",
    "data = response.json()\n",
    "\n",
    "# Check if request was successful\n",
    "if response.status_code != 200:\n",
    "    print(f\"Error: {response.status_code}\")\n",
    "    print(response.text)\n",
    "else:\n",
    "    data = response.json()\n",
    "\n",
    "    # Debug: print the full JSON to see the structure\n",
    "    #print(json.dumps(data, indent=2))\n",
    "\n",
    "    # Safely extract the assistant's message\n",
    "    try:\n",
    "        raw_response = data[\"choices\"][0][\"message\"][\"content\"]\n",
    "        display(Markdown(raw_response))\n",
    "    except (KeyError, IndexError) as e:\n",
    "        print(\"Could not find 'message.content' in the response.\")"
   ]
  },
  {
   "cell_type": "code",
   "execution_count": 6,
   "id": "b2efd411",
   "metadata": {},
   "outputs": [],
   "source": [
    "# New Question\n",
    "messages={\n",
    "        \"role\": \"user\",\n",
    "        \"content\": raw_response}\n",
    "    "
   ]
  },
  {
   "cell_type": "code",
   "execution_count": 7,
   "id": "7b50ae31",
   "metadata": {},
   "outputs": [
    {
     "data": {
      "text/markdown": [
       "The number is **1729**.\n",
       "\n",
       "---\n",
       "\n",
       "### Why 1729?\n",
       "\n",
       "The problem asks for the smallest positive integer that can be written as a sum of two distinct positive cubes in **two different ways**.  \n",
       "In other words, we want the smallest integer \\(N\\) such that\n",
       "\n",
       "\\[\n",
       "N = a^3 + b^3 = c^3 + d^3 ,\n",
       "\\]\n",
       "\n",
       "with \\(a, b, c, d\\) all positive integers, \\(a \\neq b\\), \\(c \\neq d\\), and \\(\\{a,b\\}\\neq\\{c,d\\}\\).\n",
       "\n",
       "#### Checking smaller possibilities\n",
       "\n",
       "* The smallest cube is \\(1^3 = 1\\). Adding any other cube gives a number less than \\(8 + 1 = 9\\).  \n",
       "  No integer below \\(1729\\) has two distinct decompositions into cubes.\n",
       "\n",
       "* A systematic search (by hand or computer) for all sums \\(x^3 + y^3\\) with \\(x < y \\le 12\\) shows that none of the resulting totals repeat until \\(12^3 + 1^3 = 1729\\).\n",
       "\n",
       "#### The first repeat: 1729\n",
       "\n",
       "\\[\n",
       "\\begin{aligned}\n",
       "1729 &= 12^3 + 1^3   &&= 1728 + 1,\\\\\n",
       "1729 &= 10^3 + 9^3   &&= 1000 + 729.\n",
       "\\end{aligned}\n",
       "\\]\n",
       "\n",
       "Both decompositions consist of **distinct** cubes, and the pairs are not the same.  \n",
       "Thus 1729 is expressible as the sum of two distinct positive integer cubes in two different ways.\n",
       "\n",
       "#### Why it's the smallest\n",
       "\n",
       "For any \\(N < 1729\\), a direct enumeration (or standard number‑theoretic arguments involving the growth rates of cubes) shows that no integer can have two distinct representations as the sum of two positive cubes.  Therefore 1729 is indeed the smallest such number.\n",
       "\n",
       "---\n",
       "\n",
       "**Answer: 1729** – the famous Hardy–Ramanujan (or taxicab) number."
      ],
      "text/plain": [
       "<IPython.core.display.Markdown object>"
      ]
     },
     "metadata": {},
     "output_type": "display_data"
    }
   ],
   "source": [
    "# Ask the question to deepseek.\n",
    "response = requests.post(\n",
    "  url=openrouter_base_url,\n",
    "  headers={\n",
    "    \"Authorization\": f\"Bearer {api_key}\",\n",
    "    \"Content-Type\": \"application/json\",\n",
    "#   \"HTTP-Referer\": \"<YOUR_SITE_URL>\", # Optional. Site URL for rankings on openrouter.ai.\n",
    "#   \"X-Title\": \"<YOUR_SITE_NAME>\", # Optional. Site title for rankings on openrouter.ai.\n",
    "  },\n",
    "  data=json.dumps({\n",
    "    \"model\": model,\n",
    "    \"messages\": [\n",
    "        messages\n",
    "    ],\n",
    "    \n",
    "  })\n",
    ")\n",
    "\n",
    "# Parse JSON\n",
    "data = response.json()\n",
    "\n",
    "# Check if request was successful\n",
    "if response.status_code != 200:\n",
    "    print(f\"Error: {response.status_code}\")\n",
    "    print(response.text)\n",
    "else:\n",
    "    data = response.json()\n",
    "\n",
    "    # Debug: print the full JSON to see the structure\n",
    "    #print(json.dumps(data, indent=2))\n",
    "\n",
    "    # Safely extract the assistant's message\n",
    "    try:\n",
    "        raw_response = data[\"choices\"][0][\"message\"][\"content\"]\n",
    "        display(Markdown(raw_response))\n",
    "    except (KeyError, IndexError) as e:\n",
    "        print(\"Could not find 'message.content' in the response.\")"
   ]
  }
 ],
 "metadata": {
  "kernelspec": {
   "display_name": "agentic_ai",
   "language": "python",
   "name": "python3"
  },
  "language_info": {
   "codemirror_mode": {
    "name": "ipython",
    "version": 3
   },
   "file_extension": ".py",
   "mimetype": "text/x-python",
   "name": "python",
   "nbconvert_exporter": "python",
   "pygments_lexer": "ipython3",
   "version": "3.13.5"
  }
 },
 "nbformat": 4,
 "nbformat_minor": 5
}
