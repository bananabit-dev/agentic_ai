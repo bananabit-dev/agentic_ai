{
 "cells": [
  {
   "cell_type": "markdown",
   "id": "87cd983a",
   "metadata": {},
   "source": [
    "# Building Multi LLM Model"
   ]
  },
  {
   "cell_type": "code",
   "execution_count": 9,
   "id": "44e7028d",
   "metadata": {},
   "outputs": [
    {
     "name": "stdout",
     "output_type": "stream",
     "text": [
      "api key exists = sk-or-v1-eaf09\n"
     ]
    }
   ],
   "source": [
    "from dotenv import load_dotenv\n",
    "from pypdf import PdfReader\n",
    "import requests\n",
    "import json\n",
    "from IPython.display import Markdown, display\n",
    "import gradio as gr\n",
    "from pathlib import Path\n",
    "import os\n",
    "from pydantic import BaseModel, EmailStr, field_validator\n",
    "from datetime import date\n",
    "\n",
    "load_dotenv(override=True)\n",
    "\n",
    "api_key=os.getenv(\"API_KEY\")\n",
    "\n",
    "if api_key:\n",
    "    print(f\"api key exists = {api_key[:14]}\")\n",
    "else:\n",
    "    print(\"api key not set\")\n",
    "    \n",
    "\n",
    "#Settings\n",
    "openrouter_base_url=\"https://openrouter.ai/api/v1/chat/completions\"\n",
    "model=\"openai/gpt-oss-20b:free\""
   ]
  },
  {
   "cell_type": "code",
   "execution_count": 6,
   "id": "ebb25dfd",
   "metadata": {},
   "outputs": [],
   "source": [
    "# Read the Profile PDF\n",
    "pdfReader = PdfReader(\"..\\\\resources\\\\Profile.pdf\")\n",
    "prof_summary = \"\"\n",
    "for page in pdfReader.pages:\n",
    "    text = page.extract_text()\n",
    "    if text:\n",
    "        prof_summary += text\n",
    "\n",
    "import os\n",
    "\n",
    "# Get the directory of the current script\n",
    "script_dir = Path.cwd().parent\n",
    "\n",
    "# Build the relative path from the script's directory\n",
    "summ_filePath = os.path.join(script_dir, \"resources\", \"Summary.txt\")\n",
    "with open(summ_filePath, \"r\", encoding=\"utf-8\") as f:\n",
    "    summary = f.read()"
   ]
  },
  {
   "cell_type": "code",
   "execution_count": 16,
   "id": "0f7e151e",
   "metadata": {},
   "outputs": [],
   "source": [
    "# System Prompt\n",
    "evaluator_system_prompt = (\n",
    "    f\"You are an evaluator responsible for assessing the quality of an AI Agent's response to a User inquiry.\\n\\n\"\n",
    "    f\"You are given a conversation between a User and an Agent. Your task is to determine whether the Agent’s latest response is of acceptable quality, considering professionalism, clarity, tone, and relevance.\\n\\n\"\n",
    "    f\"The Agent is acting on behalf of Sora and appears on Sora’s website, interacting with visitors who may be potential clients, employers, or professional connections. The Agent is expected to be informative, professional, and engaging in tone.\\n\\n\"\n",
    "    f\"The Agent has been given context about Sora, including their professional summary and LinkedIn profile. Please use this context to inform your evaluation.\\n\\n\"\n",
    "    f\"## Summary:\\n{summary}\\n\\n\"\n",
    "    f\"## Proffesional Summary Profile:\\n{prof_summary}\\n\\n\"\n",
    "    f\"Based on this information, evaluate the Agent’s latest message. Respond with:\\n\"\n",
    "    f\"1. **Acceptable** or **Unacceptable**\\n\"\n",
    "    f\"2. A brief explanation justifying your decision\"\n",
    ")\n",
    "\n",
    "system_prompt = f\"\"\"\n",
    "You are Sora from no game no life.\n",
    "Roleplay as Sora from No Game No Life\n",
    "Answer in a professional tone.\n",
    "\n",
    "all interactions should Be in the role of Sora\n",
    "Heres a summary:\n",
    "\\n{summary}\\n\n",
    "heres a profile summary:\n",
    "\\n{prof_summary}\\n\n",
    "\"\"\""
   ]
  },
  {
   "cell_type": "code",
   "execution_count": null,
   "id": "f73bc56b",
   "metadata": {},
   "outputs": [],
   "source": [
    "class Evaluation(BaseModel):\n",
    "    score: int\n",
    "    reasoning: str\n",
    "    verdict: str\n",
    "    accepted: bool"
   ]
  },
  {
   "cell_type": "code",
   "execution_count": 10,
   "id": "0b4758e2",
   "metadata": {},
   "outputs": [],
   "source": [
    "def evaluator_user_prompt(reply, message, history):\n",
    "    user_prompt = (\n",
    "        \"You are evaluating the most recent response from an AI Agent in the context of a conversation.\\n\\n\"\n",
    "        \"### Conversation History:\\n\"\n",
    "        f\"{history}\\n\\n\"\n",
    "        \"### Latest User Message:\\n\"\n",
    "        f\"{message}\\n\\n\"\n",
    "        \"### Agent's Response:\\n\"\n",
    "        f\"{reply}\\n\\n\"\n",
    "        \"Please assess whether the Agent’s response is acceptable.\\n\"\n",
    "    )\n",
    "    return user_prompt"
   ]
  },
  {
   "cell_type": "code",
   "execution_count": null,
   "id": "9b779d58",
   "metadata": {},
   "outputs": [],
   "source": [
    "\n",
    "# Config\n",
    "system_message = \"You are an evaluator. Return a JSON object with fields: score(int), reasoning(str), verdict(str), accepted(bool).\"\n",
    "\n",
    "def evaluate(message, reply, history):\n",
    "    # Build the evaluation prompt\n",
    "    user_prompt = f\"\"\"\n",
    "    Evaluate the following AI reply.\n",
    "\n",
    "    User message: {message}\n",
    "    AI reply: {reply}\n",
    "    Conversation history: {history}\n",
    "\n",
    "    Return ONLY a JSON object with:\n",
    "    - score (integer from 1 to 10)\n",
    "    - reasoning (string)\n",
    "    - verdict (string: \"good\" or \"bad\")\n",
    "    - accepted (bool)\n",
    "    \"\"\"\n",
    "\n",
    "    messages = [\n",
    "        {\"role\": \"system\", \"content\": system_message},\n",
    "        {\"role\": \"user\", \"content\": user_prompt}\n",
    "    ]\n",
    "\n",
    "    # Send request to OpenRouter\n",
    "    response = requests.post(\n",
    "        url=openrouter_base_url,\n",
    "        headers={\n",
    "            \"Authorization\": f\"Bearer {api_key}\",\n",
    "            \"Content-Type\": \"application/json\",\n",
    "        },\n",
    "        data=json.dumps({\n",
    "            \"model\": model,\n",
    "            \"messages\": messages\n",
    "        })\n",
    "    )\n",
    "\n",
    "    if response.status_code != 200:\n",
    "        print(f\"Error: {response.status_code}\")\n",
    "        print(response.text)\n",
    "        return None\n",
    "\n",
    "    try:\n",
    "        data = response.json()\n",
    "        raw_response = data[\"choices\"][0][\"message\"][\"content\"]\n",
    "\n",
    "        # Parse JSON into Evaluation object\n",
    "        parsed = json.loads(raw_response)\n",
    "        evaluation = Evaluation(**parsed)\n",
    "        return evaluation\n",
    "\n",
    "    except (KeyError, IndexError, json.JSONDecodeError) as e:\n",
    "        print(\"Error parsing response:\", e)\n",
    "        return None"
   ]
  },
  {
   "cell_type": "code",
   "execution_count": null,
   "id": "cbed291f",
   "metadata": {},
   "outputs": [
    {
     "name": "stdout",
     "output_type": "stream",
     "text": [
      "Error: 400\n",
      "{\"error\":{\"message\":\"deepseek-chat is not a valid model ID\",\"code\":400},\"user_id\":\"user_2tSJTJhiSOm1h3thi6defpxWfS3\"}\n"
     ]
    }
   ],
   "source": [
    "# 📌 Submit a User Prompt to gpt oss 20\n",
    "\n",
    "# Build the conversation messages\n",
    "messages = [\n",
    "    {\"role\": \"system\", \"content\": system_prompt},\n",
    "    {\"role\": \"user\", \"content\": \"do you hold a Degree?\"}\n",
    "]\n",
    "\n",
    "# Send request to OpenRouter / DeepSeek\n",
    "response = requests.post(\n",
    "    url=openrouter_base_url,\n",
    "    headers={\n",
    "        \"Authorization\": f\"Bearer {api_key}\",\n",
    "        \"Content-Type\": \"application/json\",\n",
    "    },\n",
    "    data=json.dumps({\n",
    "        \"model\": model,\n",
    "        \"messages\": messages\n",
    "    })\n",
    ")\n",
    "\n",
    "# Check for errors\n",
    "if response.status_code != 200:\n",
    "    print(f\"Error: {response.status_code}\")\n",
    "    print(response.text)\n",
    "    reply = None\n",
    "else:\n",
    "    try:\n",
    "        data = response.json()\n",
    "        reply = data[\"choices\"][0][\"message\"][\"content\"]\n",
    "    except (KeyError, IndexError, json.JSONDecodeError) as e:\n",
    "        print(\"Error parsing response:\", e)\n",
    "        reply = None"
   ]
  }
 ],
 "metadata": {
  "kernelspec": {
   "display_name": "agentic_ai",
   "language": "python",
   "name": "python3"
  },
  "language_info": {
   "codemirror_mode": {
    "name": "ipython",
    "version": 3
   },
   "file_extension": ".py",
   "mimetype": "text/x-python",
   "name": "python",
   "nbconvert_exporter": "python",
   "pygments_lexer": "ipython3",
   "version": "3.13.5"
  }
 },
 "nbformat": 4,
 "nbformat_minor": 5
}
