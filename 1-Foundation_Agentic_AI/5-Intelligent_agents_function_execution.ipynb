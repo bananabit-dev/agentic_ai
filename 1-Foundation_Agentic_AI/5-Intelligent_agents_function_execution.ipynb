{
 "cells": [
  {
   "cell_type": "markdown",
   "id": "463d59f8",
   "metadata": {},
   "source": [
    "# Intelligent Agents: Function Execution and Alerts with LLMs\n"
   ]
  },
  {
   "cell_type": "markdown",
   "id": "c024406a",
   "metadata": {},
   "source": [
    "## Introducing Pushover\n",
    "Setting up Pushover for notifications is quick and hassle-free! Just follow these simple steps:\n",
    "\n",
    "### Create a Free Account\n",
    "Head over to https://pushover.net and sign up.\n",
    "\n",
    "### Generate Your Tokens\n",
    "You’ll need two tokens to enable notifications:\n",
    "\n",
    "🔑 User Token – Found on your Pushover dashboard.\n",
    "🛠️ Application Token – Create one by visiting https://pushover.net/apps/build and registering a new app.\n",
    "(This allows you to organize notifications into separate apps later.)\n",
    "\n",
    "Add to Your .env File\n",
    "Store your credentials securely by adding the following to your .env:\n",
    "\n",
    "PUSHOVER_USER=your_user_token_here\n",
    "\n",
    "PUSHOVER_TOKEN=your_app_token_here\n",
    "\n",
    "### Install the Mobile App\n",
    "Download the Pushover app on your phone (iOS/Android) to start receiving real-time push notifications.\n"
   ]
  },
  {
   "cell_type": "code",
   "execution_count": null,
   "id": "7d6cb2cd",
   "metadata": {},
   "outputs": [],
   "source": [
    "import requests\n",
    "import os\n",
    "from dotenv import load_dotenv"
   ]
  },
  {
   "cell_type": "code",
   "execution_count": null,
   "id": "b7159006",
   "metadata": {},
   "outputs": [],
   "source": [
    "# Send the Mobile Notifications\n",
    "PUSH_NOTIFICATION_URI=\"https://api.pushover.net/1/messages.json\"\n",
    "pushover_user = os.getenv(\"PUSHOVER_USER\")\n",
    "pushover_token = os.getenv(\"PUSHOVER_TOKEN\")\n",
    "\n",
    "def push_notification(title,message):\n",
    "    data={\n",
    "        \"token\": pushover_token,\n",
    "        \"user\": pushover_user,\n",
    "        \"message\": message,\n",
    "        \"title\": title,\n",
    "    }\n",
    "\n",
    "    requests.post(PUSH_NOTIFICATION_URI, data)\n",
    "    if response.status_code == 200:\n",
    "        return \"Notification sent!\"\n",
    "    else:\n",
    "        return f\"Failed to send: {response.text}\"\n",
    "\n",
    "push_notification(\"Test Mobile Notification\", \"Testing via API calls\")\n"
   ]
  },
  {
   "cell_type": "code",
   "execution_count": null,
   "id": "42794a5b",
   "metadata": {},
   "outputs": [],
   "source": [
    "r = requests.post(\"https://api.pushover.net/1/messages.json\", data = {\n",
    "  \"token\": \"APP_TOKEN\",\n",
    "  \"user\": \"USER_KEY\",\n",
    "  \"message\": \"hello world\"\n",
    "})\n",
    "print(r.text)"
   ]
  }
 ],
 "metadata": {
  "kernelspec": {
   "display_name": "agentic_ai",
   "language": "python",
   "name": "python3"
  },
  "language_info": {
   "name": "python",
   "version": "3.13.5"
  }
 },
 "nbformat": 4,
 "nbformat_minor": 5
}
