{
 "cells": [
  {
   "cell_type": "markdown",
   "id": "f92a8d4e",
   "metadata": {},
   "source": [
    "# Pydantic Data Validation example"
   ]
  },
  {
   "cell_type": "code",
   "execution_count": 1,
   "id": "69488e8f",
   "metadata": {},
   "outputs": [
    {
     "name": "stdout",
     "output_type": "stream",
     "text": [
      "id=1 name='Sora'\n"
     ]
    }
   ],
   "source": [
    "from pydantic import BaseModel\n",
    "\n",
    "# Validate the User Data\n",
    "class User(BaseModel):\n",
    "    id: int\n",
    "    name: str\n",
    "\n",
    "usr = User(id=1,name=\"Sora\")\n",
    "print(usr)"
   ]
  },
  {
   "cell_type": "code",
   "execution_count": null,
   "id": "3b1d957d",
   "metadata": {},
   "outputs": [
    {
     "name": "stdout",
     "output_type": "stream",
     "text": [
      "id=2 name='Peter' signup_ts=None salary=None\n"
     ]
    }
   ],
   "source": [
    "# Use Default Values\n",
    "class User(BaseModel):\n",
    "    id: int\n",
    "    name: str\n",
    "    signup_ts: str | None = None\n",
    "    salary: float | None = None\n",
    "\n",
    "usr1 = User(id=2,name=\"Peter\",)\n",
    "print(usr1)"
   ]
  },
  {
   "cell_type": "markdown",
   "id": "2e25d340",
   "metadata": {},
   "source": [
    "### What i need to do:\n",
    "- Validate the email format\n",
    "- Ensure age is a positive integer\n",
    "- Ensure password meets minimum length requirements\n",
    "- Convert \"30\" to integer\n",
    "- Parse \"2025-01-01\" into a datetime date.\n"
   ]
  },
  {
   "cell_type": "code",
   "execution_count": 16,
   "id": "8198bf29",
   "metadata": {},
   "outputs": [],
   "source": [
    "from pydantic import BaseModel, EmailStr, field_validator\n",
    "from datetime import date\n",
    "\n",
    "class UserRegistration(BaseModel):\n",
    "    username: str\n",
    "    password: str\n",
    "    email: EmailStr\n",
    "    age: int\n",
    "    join_date: date\n",
    "\n",
    "    @field_validator(\"age\",mode='after')\n",
    "    @classmethod\n",
    "    def validate_age(cls, value):\n",
    "        if value < 0:\n",
    "            raise ValueError(\"Age must be positive\")\n",
    "        return value\n",
    "\n",
    "    @field_validator(\"password\",mode='after')\n",
    "    @classmethod\n",
    "    def validate_pw(cls, value):\n",
    "        if len(value) < 10:\n",
    "            raise ValueError(\"Password must be at least 10 characters long\")\n",
    "        return value\n"
   ]
  },
  {
   "cell_type": "code",
   "execution_count": 17,
   "id": "97909abe",
   "metadata": {},
   "outputs": [],
   "source": [
    "incoming_data = {\n",
    "    \"username\": \"John Doe\",\n",
    "    \"password\": \"password123\",\n",
    "    \"email\": \"johndoe@randmail.com\",\n",
    "    \"age\": \"23\",\n",
    "    \"join_date\": \"2025-09-10\"\n",
    "}\n",
    "\n",
    "user = UserRegistration(**incoming_data)"
   ]
  },
  {
   "cell_type": "markdown",
   "id": "316fa737",
   "metadata": {},
   "source": [
    "## Nested Models"
   ]
  },
  {
   "cell_type": "code",
   "execution_count": 21,
   "id": "69aaca2a",
   "metadata": {},
   "outputs": [],
   "source": [
    "class Address(BaseModel):\n",
    "    street:str\n",
    "    city:str\n",
    "    zip_code:str\n",
    "\n",
    "class UserRegistrationWithAddress(UserRegistration):\n",
    "    address: Address\n",
    "\n",
    "\n",
    "\n",
    "incoming_data = {\n",
    "    \"username\": \"John Doe\",\n",
    "    \"password\": \"password123\",\n",
    "    \"email\": \"johndoe@randmail.com\",\n",
    "    \"age\": \"23\",\n",
    "    \"join_date\": \"2025-09-10\",\n",
    "    \"address\": {\n",
    "        \"street\": \"123 Main St\",\n",
    "        \"city\": \"New York\",\n",
    "        \"zip_code\": \"10001\"\n",
    "    }\n",
    "}\n",
    "\n",
    "user = UserRegistrationWithAddress(**incoming_data)"
   ]
  }
 ],
 "metadata": {
  "kernelspec": {
   "display_name": "agentic_ai",
   "language": "python",
   "name": "python3"
  },
  "language_info": {
   "codemirror_mode": {
    "name": "ipython",
    "version": 3
   },
   "file_extension": ".py",
   "mimetype": "text/x-python",
   "name": "python",
   "nbconvert_exporter": "python",
   "pygments_lexer": "ipython3",
   "version": "3.13.5"
  }
 },
 "nbformat": 4,
 "nbformat_minor": 5
}
