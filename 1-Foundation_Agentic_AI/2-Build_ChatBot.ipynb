{
 "cells": [
  {
   "cell_type": "markdown",
   "id": "3501867a",
   "metadata": {},
   "source": [
    "# Building Chatbot that will answer in behalf of Sora(no game no life)!"
   ]
  },
  {
   "cell_type": "code",
   "execution_count": 61,
   "id": "529f06c7",
   "metadata": {},
   "outputs": [
    {
     "name": "stdout",
     "output_type": "stream",
     "text": [
      "api key exists = sk-or-v1-eaf09\n"
     ]
    }
   ],
   "source": [
    "\n",
    "from dotenv import load_dotenv\n",
    "from pypdf import PdfReader\n",
    "import requests\n",
    "import json\n",
    "from IPython.display import Markdown, display\n",
    "import gradio as gr\n",
    "from pathlib import Path\n",
    "import os\n",
    "\n",
    "\n",
    "load_dotenv(override=True)\n",
    "\n",
    "api_key=os.getenv(\"API_KEY\")\n",
    "\n",
    "if api_key:\n",
    "    print(f\"api key exists = {api_key[:14]}\")\n",
    "else:\n",
    "    print(\"api key not set\")\n",
    "    \n",
    "\n",
    "#Settings\n",
    "openrouter_base_url=\"https://openrouter.ai/api/v1/chat/completions\"\n",
    "model=\"openai/gpt-oss-20b:free\""
   ]
  },
  {
   "cell_type": "code",
   "execution_count": 62,
   "id": "d59d31e8",
   "metadata": {},
   "outputs": [],
   "source": [
    "# Read the Profile PDF\n",
    "pdfReader = PdfReader(\"..\\\\resources\\\\Profile.pdf\")\n",
    "prof_summary = \"\"\n",
    "for page in pdfReader.pages:\n",
    "    text = page.extract_text()\n",
    "    if text:\n",
    "        prof_summary += text"
   ]
  },
  {
   "cell_type": "code",
   "execution_count": 63,
   "id": "2d1e8aa0",
   "metadata": {},
   "outputs": [
    {
     "name": "stdout",
     "output_type": "stream",
     "text": [
      "File path used: c:\\Users\\marvi\\workspace\\agentic_ai\\resources\\Summary.txt\n"
     ]
    }
   ],
   "source": [
    "import os\n",
    "\n",
    "# Get the directory of the current script\n",
    "script_dir = Path.cwd().parent\n",
    "\n",
    "# Build the relative path from the script's directory\n",
    "summ_filePath = os.path.join(script_dir, \"resources\", \"Summary.txt\")\n",
    "with open(summ_filePath, \"r\", encoding=\"utf-8\") as f:\n",
    "    summary = f.read()\n",
    "\n",
    "print(f\"File path used: {summ_filePath}\")  # Very helpful for debugging!\n"
   ]
  },
  {
   "cell_type": "code",
   "execution_count": null,
   "id": "f047cc29",
   "metadata": {},
   "outputs": [],
   "source": [
    "# System Prompt\n",
    "system_message = f\"\"\"\n",
    "You are Sora from no game no life.\n",
    "Roleplay as Sora from No Game No Life\n",
    "\n",
    "all interactions should Be in the role of Sora\n",
    "Heres a summary:\n",
    "\\n{summary}\\n\n",
    "heres a profile summary:\n",
    "\\n{prof_summary}\\n\n",
    "\"\"\""
   ]
  },
  {
   "cell_type": "code",
   "execution_count": 65,
   "id": "eb7bfe89",
   "metadata": {},
   "outputs": [],
   "source": [
    "history = []\n",
    "prompt = \"\"\n",
    "\n",
    "def liveChat(prompt, history):\n",
    "    # Build the messages list\n",
    "    messages = [{\"role\": \"system\", \"content\": system_message}] + history + [\n",
    "        {\"role\": \"user\", \"content\": prompt}\n",
    "    ]\n",
    "\n",
    "    # Send request to OpenRouter\n",
    "    response = requests.post(\n",
    "        url=openrouter_base_url,\n",
    "        headers={\n",
    "            \"Authorization\": f\"Bearer {api_key}\",\n",
    "            \"Content-Type\": \"application/json\",\n",
    "        },\n",
    "        data=json.dumps({\n",
    "            \"model\": model,\n",
    "            \"messages\": messages\n",
    "        })\n",
    "    )\n",
    "\n",
    "    # Parse JSON\n",
    "    if response.status_code != 200:\n",
    "        print(f\"Error: {response.status_code}\")\n",
    "        print(response.text)\n",
    "        return None\n",
    "\n",
    "    try:\n",
    "        data = response.json()\n",
    "        raw_response = data[\"choices\"][0][\"message\"][\"content\"]\n",
    "\n",
    "        # Update history with user and assistant messages\n",
    "        #history.append({\"role\": \"user\", \"content\": prompt})\n",
    "        #history.append({\"role\": \"assistant\", \"content\": raw_response})\n",
    "\n",
    "        return raw_response\n",
    "    except (KeyError, IndexError, json.JSONDecodeError) as e:\n",
    "        print(\"Error parsing response:\", e)\n",
    "        return None\n"
   ]
  },
  {
   "cell_type": "code",
   "execution_count": 66,
   "id": "0b317927",
   "metadata": {},
   "outputs": [
    {
     "name": "stdout",
     "output_type": "stream",
     "text": [
      "* Running on local URL:  http://127.0.0.1:7864\n",
      "* To create a public link, set `share=True` in `launch()`.\n"
     ]
    },
    {
     "data": {
      "text/html": [
       "<div><iframe src=\"http://127.0.0.1:7864/\" width=\"100%\" height=\"500\" allow=\"autoplay; camera; microphone; clipboard-read; clipboard-write;\" frameborder=\"0\" allowfullscreen></iframe></div>"
      ],
      "text/plain": [
       "<IPython.core.display.HTML object>"
      ]
     },
     "metadata": {},
     "output_type": "display_data"
    },
    {
     "data": {
      "text/plain": []
     },
     "execution_count": 66,
     "metadata": {},
     "output_type": "execute_result"
    }
   ],
   "source": [
    "gr.ChatInterface(liveChat,type=\"messages\").launch()"
   ]
  }
 ],
 "metadata": {
  "kernelspec": {
   "display_name": "agentic_ai",
   "language": "python",
   "name": "python3"
  },
  "language_info": {
   "codemirror_mode": {
    "name": "ipython",
    "version": 3
   },
   "file_extension": ".py",
   "mimetype": "text/x-python",
   "name": "python",
   "nbconvert_exporter": "python",
   "pygments_lexer": "ipython3",
   "version": "3.13.5"
  }
 },
 "nbformat": 4,
 "nbformat_minor": 5
}
