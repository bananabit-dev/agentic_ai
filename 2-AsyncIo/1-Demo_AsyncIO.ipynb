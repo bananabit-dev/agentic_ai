{
 "cells": [
  {
   "cell_type": "markdown",
   "id": "5222a977",
   "metadata": {},
   "source": [
    "# Synv vs Async IO"
   ]
  },
  {
   "cell_type": "code",
   "execution_count": 1,
   "id": "481b8db8",
   "metadata": {},
   "outputs": [
    {
     "name": "stdout",
     "output_type": "stream",
     "text": [
      "fetching data\n",
      "Data received\n",
      "fetching data\n",
      "Data received\n"
     ]
    }
   ],
   "source": [
    "# Synchronous Code Blocking\n",
    "\n",
    "import time\n",
    "\n",
    "def fetch_data():\n",
    "    print(\"fetching data\")\n",
    "    time.sleep(3) # blocking\n",
    "    return \"Data received\"\n",
    "\n",
    "def main():\n",
    "    print(fetch_data())\n",
    "    print(fetch_data())\n",
    "\n",
    "main()"
   ]
  },
  {
   "cell_type": "code",
   "execution_count": 6,
   "id": "0e80c75b",
   "metadata": {},
   "outputs": [
    {
     "name": "stdout",
     "output_type": "stream",
     "text": [
      "fetching data\n",
      "fetching data\n",
      "['Data received', 'Data received']\n"
     ]
    }
   ],
   "source": [
    "# Async code (non blocking)\n",
    "\n",
    "\n",
    "import time\n",
    "import asyncio\n",
    "\n",
    "async def fetch_data(): # Coroutine\n",
    "    print(\"fetching data\")\n",
    "    await asyncio.sleep(3) # blocking\n",
    "    return \"Data received\"\n",
    "\n",
    "async def main(): # Coroutine\n",
    "    #print(await fetch_data())\n",
    "    #print(await fetch_data())\n",
    "    results = await asyncio.gather(fetch_data(),fetch_data())\n",
    "    print(results)\n",
    "\n",
    "await main()"
   ]
  }
 ],
 "metadata": {
  "kernelspec": {
   "display_name": "agentic_ai",
   "language": "python",
   "name": "python3"
  },
  "language_info": {
   "codemirror_mode": {
    "name": "ipython",
    "version": 3
   },
   "file_extension": ".py",
   "mimetype": "text/x-python",
   "name": "python",
   "nbconvert_exporter": "python",
   "pygments_lexer": "ipython3",
   "version": "3.13.5"
  }
 },
 "nbformat": 4,
 "nbformat_minor": 5
}
